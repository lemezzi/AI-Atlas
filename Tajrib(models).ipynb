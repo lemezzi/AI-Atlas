{
 "cells": [
  {
   "cell_type": "markdown",
   "metadata": {
    "colab_type": "text",
    "id": "GpY-ArzB1rH-"
   },
   "source": [
    "# **Disease Detection using Symptoms and Treatment recommendation**\n",
    "\n",
    "This notebook contains all the models applied on the scraped dataset and contains the accuracy comparison plot.\n"
   ]
  },
  {
   "cell_type": "code",
   "execution_count": 1,
   "metadata": {
    "colab": {},
    "colab_type": "code",
    "id": "lEsjGGNblruf"
   },
   "outputs": [],
   "source": [
    "# all necessary imports\n",
    "import warnings\n",
    "from decimal import Decimal\n",
    "import pandas as pd\n",
    "from sklearn.tree import DecisionTreeClassifier\n",
    "from sklearn.linear_model import LogisticRegression\n",
    "from sklearn.neighbors import KNeighborsClassifier\n",
    "from sklearn.svm import SVC\n",
    "from sklearn.metrics import accuracy_score\n",
    "from sklearn.model_selection import train_test_split, cross_val_score\n",
    "from sklearn.model_selection import GridSearchCV\n",
    "from sklearn.naive_bayes import MultinomialNB\n",
    "from sklearn.ensemble import RandomForestClassifier\n",
    "from sklearn.neural_network import MLPClassifier\n",
    "\n",
    "import matplotlib.pyplot as plt\n",
    "# ignore warnings generated due to usage of old version of tensorflow\n",
    "warnings.simplefilter(\"ignore\")"
   ]
  },
  {
   "cell_type": "markdown",
   "metadata": {
    "colab_type": "text",
    "id": "t1sbUx8C22zG"
   },
   "source": [
    "**Disease Symptom dataset** was created in a separate python program.\n",
    "\n",
    "**Dataset scrapping** was done using **NHP website** and **wikipedia data**"
   ]
  },
  {
   "cell_type": "code",
   "execution_count": 2,
   "metadata": {
    "colab": {},
    "colab_type": "code",
    "id": "xTIhMk1Ilz7O"
   },
   "outputs": [],
   "source": [
    "# Load Dataset scraped from NHP (https://www.nhp.gov.in/disease-a-z) & Wikipedia\n",
    "# Scrapping and creation of dataset csv is done in a separate program\n",
    "df_comb = pd.read_csv(\"dis_sym_dataset_comb.csv\")\n",
    "\n",
    "# creation of features and label for training the models\n",
    "X = df_comb.iloc[:, 1:]\n",
    "Y = df_comb.iloc[:, 0:1]"
   ]
  },
  {
   "cell_type": "markdown",
   "metadata": {
    "colab_type": "text",
    "id": "wB98cbQc3kX1"
   },
   "source": [
    "*Train Test Split*"
   ]
  },
  {
   "cell_type": "code",
   "execution_count": 3,
   "metadata": {
    "colab": {},
    "colab_type": "code",
    "id": "43edxNr-l37s"
   },
   "outputs": [],
   "source": [
    "# splitting data for training the classifiers and testing\n",
    "x_train, x_test, y_train, y_test = train_test_split(X, Y, test_size=0.10)"
   ]
  },
  {
   "cell_type": "code",
   "execution_count": 4,
   "metadata": {
    "colab": {},
    "colab_type": "code",
    "id": "NFWxSoKRl6iU"
   },
   "outputs": [],
   "source": [
    "# lists used for accuracy plots\n",
    "accuracy_list = []\n",
    "cross_accuracy_list = []\n",
    "model_list = []"
   ]
  },
  {
   "cell_type": "markdown",
   "metadata": {
    "colab_type": "text",
    "id": "50u3FJaH3r0k"
   },
   "source": [
    "# **Multinomial Naive Bayes Classifier**\n",
    "\n",
    "est un algorithme d'apprentissage supervisé qui utilise le théorème de Bayes pour prédire la classe d'un échantillon en se basant sur la fréquence des occurrences de ses caractéristiques dans les différentes classes possibles.\n",
    "alpha: un paramètre de régularisation utilisé pour éviter le surapprentissage (overfitting) elle permet permet de réduire l'influence des caractéristiques rares ou peu informatives Plus la valeur d'alpha est grande, plus la régularisation est forte.\n"
   ]
  },
  {
   "cell_type": "code",
   "execution_count": 5,
   "metadata": {
    "colab": {
     "base_uri": "https://localhost:8080/",
     "height": 50
    },
    "colab_type": "code",
    "id": "OUrShCRcl8Gs",
    "outputId": "fa8d8306-89bf-4c5d-e23f-58a60d0bf647"
   },
   "outputs": [
    {
     "name": "stdout",
     "output_type": "stream",
     "text": [
      "Best parameters: {'alpha': 0.2, 'fit_prior': False}\n"
     ]
    },
    {
     "data": {
      "image/png": "[encoded data removed]",
      "text/plain": [
       "<Figure size 432x288 with 2 Axes>"
      ]
     },
     "metadata": {
      "needs_background": "light"
     },
     "output_type": "display_data"
    },
    {
     "name": "stdout",
     "output_type": "stream",
     "text": [
      "Best parameters: {'alpha': 0.2, 'fit_prior': False}\n",
      "Accuracy (MNB) : 90.38%\n",
      "Cross Validation Accuracy (MNB): 90.81%\n"
     ]
    }
   ],
   "source": [
    "import seaborn as sns\n",
    "import matplotlib.pyplot as plt\n",
    "import numpy as np\n",
    "\n",
    "# define the parameter grid to search over\n",
    "param_grid = {\n",
    "    'alpha': np.arange(0.1, 1.0, 0.1),\n",
    "    'fit_prior': [True, False],\n",
    "}\n",
    "\n",
    "# create the GridSearchCV object\n",
    "mnb_grid = GridSearchCV(MultinomialNB(), param_grid, cv=5)\n",
    "\n",
    "# fit the grid to the data\n",
    "mnb_grid.fit(x_train, y_train)\n",
    "\n",
    "# get the best estimator and its parameters\n",
    "best_mnb = mnb_grid.best_estimator_\n",
    "best_params = mnb_grid.best_params_\n",
    "\n",
    "# print the best parameters\n",
    "print(f\"Best parameters: {best_params}\")\n",
    "\n",
    "# create a grid of alpha values and fit_prior values\n",
    "alpha_vals = np.arange(0.1, 1.0, 0.1)\n",
    "fit_prior_vals = [True, False]\n",
    "grid = np.zeros((len(alpha_vals), len(fit_prior_vals)))\n",
    "\n",
    "# loop over the alpha and fit_prior values and calculate the cross-validation score\n",
    "for i, alpha in enumerate(alpha_vals):\n",
    "    for j, fit_prior in enumerate(fit_prior_vals):\n",
    "        mnb = MultinomialNB(alpha=alpha, fit_prior=fit_prior)\n",
    "        scores_mnb = cross_val_score(mnb, X, Y, cv=5)\n",
    "        score = scores_mnb.mean()\n",
    "        grid[i, j] = score\n",
    "\n",
    "# plot the grid as a heatmap\n",
    "sns.heatmap(grid, xticklabels=fit_prior_vals, yticklabels=alpha_vals, annot=True, fmt='.2f')\n",
    "plt.xlabel(\"fit_prior\")\n",
    "plt.ylabel(\"alpha\")\n",
    "plt.title(\"Cross Validation Accuracy Grid\")\n",
    "plt.show()\n",
    "\n",
    "\n",
    "\n",
    "# print the best parameters\n",
    "print(f\"Best parameters: {best_params}\")\n",
    "\n",
    "# Multinomial NB Classifier with best parameters\n",
    "mnb = best_mnb\n",
    "mnb = mnb.fit(x_train, y_train)\n",
    "# prediction of labels for the test data\n",
    "mnb_pred = mnb.predict(x_test)\n",
    "# calculation of accuracy score based on predictions performed\n",
    "# converting to Decimal as rounding with float is inaccurate\n",
    "acc_mnb = round(Decimal(accuracy_score(y_test, mnb_pred) * 100), 2)\n",
    "accuracy_list.append(acc_mnb)\n",
    "model_list.append(\"MNB\")\n",
    "print(f\"Accuracy (MNB) : {acc_mnb}%\")\n",
    "\n",
    "# Cross Validation Accuracy MNB with best parameters\n",
    "# performing cross validation with 5 different splits\n",
    "scores_mnb = cross_val_score(best_mnb, X, Y, cv=5)\n",
    "# mean of cross val score (accuracy)\n",
    "score = round(Decimal(scores_mnb.mean() * 100), 2)\n",
    "cross_accuracy_list.append(score)\n",
    "print(f\"Cross Validation Accuracy (MNB): {score}%\")"
   ]
  },
  {
   "cell_type": "code",
   "execution_count": null,
   "metadata": {},
   "outputs": [],
   "source": []
  },
  {
   "cell_type": "markdown",
   "metadata": {
    "colab_type": "text",
    "id": "gEJWlm2u3yRc"
   },
   "source": [
    "# **Random Forest Classifier**\n",
    "\n",
    "RF classifier is an estimator that fits a number of decision tree classifiers on various sub-samples of the dataset and take the average to improve predicting accuracy."
   ]
  },
  {
   "cell_type": "code",
   "execution_count": 6,
   "metadata": {
    "colab": {
     "base_uri": "https://localhost:8080/",
     "height": 50
    },
    "colab_type": "code",
    "id": "owiCcnlvmAP9",
    "outputId": "0e011b23-5965-4fa7-ee6d-416ebc2070ed"
   },
   "outputs": [
    {
     "name": "stdout",
     "output_type": "stream",
     "text": [
      "Best parameters: {'max_depth': None, 'n_estimators': 50}\n"
     ]
    },
    {
     "data": {
      "image/png": "[encoded data removed]",
      "text/plain": [
       "<Figure size 432x288 with 2 Axes>"
      ]
     },
     "metadata": {
      "needs_background": "light"
     },
     "output_type": "display_data"
    },
    {
     "name": "stdout",
     "output_type": "stream",
     "text": [
      "Best parameters: {'max_depth': None, 'n_estimators': 50}\n",
      "Accuracy (RF) : 87.56%\n",
      "Cross Validation Accuracy (RF): 88.79%\n"
     ]
    }
   ],
   "source": [
    "import seaborn as sns\n",
    "import matplotlib.pyplot as plt\n",
    "import numpy as np\n",
    "from sklearn.ensemble import RandomForestClassifier\n",
    "from sklearn.model_selection import GridSearchCV, cross_val_score\n",
    "from sklearn.metrics import accuracy_score\n",
    "from decimal import Decimal\n",
    "\n",
    "# define the parameter grid to search over\n",
    "param_grid = {\n",
    "    'n_estimators': [50, 10, 5],\n",
    "    'max_depth': [None, 5, 10],\n",
    "}\n",
    "\n",
    "# create the GridSearchCV object\n",
    "rf_grid = GridSearchCV(RandomForestClassifier(), param_grid, cv=5)\n",
    "\n",
    "# fit the grid to the data\n",
    "rf_grid.fit(x_train, y_train)\n",
    "\n",
    "# get the best estimator and its parameters\n",
    "best_rf = rf_grid.best_estimator_\n",
    "best_params = rf_grid.best_params_\n",
    "\n",
    "# print the best parameters\n",
    "print(f\"Best parameters: {best_params}\")\n",
    "\n",
    "# create a grid of n_estimators and max_depth values\n",
    "n_est_vals = [50, 10, 5]\n",
    "max_depth_vals = [None, 5, 10]\n",
    "grid = np.zeros((len(n_est_vals), len(max_depth_vals)))\n",
    "\n",
    "# loop over the n_estimators and max_depth values and calculate the cross-validation score\n",
    "for i, n_est in enumerate(n_est_vals):\n",
    "    for j, max_depth in enumerate(max_depth_vals):\n",
    "        rf = RandomForestClassifier(n_estimators=n_est, max_depth=max_depth)\n",
    "        scores_rf = cross_val_score(rf, X, Y, cv=5)\n",
    "        score = scores_rf.mean()\n",
    "        grid[i, j] = score\n",
    "\n",
    "# plot the grid as a heatmap\n",
    "sns.heatmap(grid, xticklabels=max_depth_vals, yticklabels=n_est_vals, annot=True, fmt='.2f')\n",
    "plt.xlabel(\"max_depth\")\n",
    "plt.ylabel(\"n_estimators\")\n",
    "plt.title(\"Cross Validation Accuracy Grid\")\n",
    "plt.show()\n",
    "\n",
    "# print the best parameters\n",
    "print(f\"Best parameters: {best_params}\")\n",
    "\n",
    "# Random Forest Classifier with best parameters\n",
    "rf = best_rf\n",
    "rf = rf.fit(x_train, y_train)\n",
    "# prediction of labels for the test data\n",
    "rf_pred = rf.predict(x_test)\n",
    "# calculation of accuracy score based on predictions performed\n",
    "# converting to Decimal as rounding with float is inaccurate\n",
    "acc_rf = round(Decimal(accuracy_score(y_test, rf_pred) * 100), 2)\n",
    "accuracy_list.append(acc_rf)\n",
    "model_list.append(\"RF\")\n",
    "print(f\"Accuracy (RF) : {acc_rf}%\")\n",
    "\n",
    "# Cross Validation Accuracy RF with best parameters\n",
    "# performing cross validation with 5 different splits\n",
    "scores_rf = cross_val_score(best_rf, X, Y, cv=5)\n",
    "# mean of cross val score (accuracy)\n",
    "score = round(Decimal(scores_rf.mean() * 100), 2)\n",
    "cross_accuracy_list.append(score)\n",
    "print(f\"Cross Validation Accuracy (RF): {score}%\")\n"
   ]
  },
  {
   "cell_type": "code",
   "execution_count": null,
   "metadata": {},
   "outputs": [],
   "source": []
  },
  {
   "cell_type": "markdown",
   "metadata": {
    "colab_type": "text",
    "id": "xxdvB5Bz9yEx"
   },
   "source": [
    "# **K-Nearest Neighbor Classifier**\n",
    "\n",
    "The principle behind nearest neighbor method is to find a predefined number of training samples closest in distance to the new point, and predict the label from these. No. of samples used here is 7."
   ]
  },
  {
   "cell_type": "code",
   "execution_count": 7,
   "metadata": {
    "colab": {
     "base_uri": "https://localhost:8080/",
     "height": 50
    },
    "colab_type": "code",
    "id": "OfIMLCfPmCqr",
    "outputId": "2040dc76-c519-433e-e558-504b38f9d227"
   },
   "outputs": [
    {
     "name": "stdout",
     "output_type": "stream",
     "text": [
      "Best parameters: {'n_neighbors': 9, 'weights': 'uniform'}\n"
     ]
    },
    {
     "data": {
      "image/png": "[encoded data removed]",
      "text/plain": [
       "<Figure size 432x288 with 2 Axes>"
      ]
     },
     "metadata": {
      "needs_background": "light"
     },
     "output_type": "display_data"
    },
    {
     "name": "stdout",
     "output_type": "stream",
     "text": [
      "Best parameters: {'n_neighbors': 9, 'weights': 'uniform'}\n",
      "Accuracy (KNN) : 86.54%\n",
      "Cross Validation Accuracy (KNN): 86.21%\n"
     ]
    }
   ],
   "source": [
    "import seaborn as sns\n",
    "import matplotlib.pyplot as plt\n",
    "import numpy as np\n",
    "from decimal import Decimal\n",
    "from sklearn.neighbors import KNeighborsClassifier\n",
    "from sklearn.model_selection import GridSearchCV, cross_val_score\n",
    "from sklearn.metrics import accuracy_score\n",
    "\n",
    "# define the parameter grid to search over\n",
    "param_grid = {\n",
    "    'n_neighbors': [1, 3, 5, 7, 9],\n",
    "    'weights': ['uniform', 'distance'],\n",
    "}\n",
    "\n",
    "# create the GridSearchCV object\n",
    "knn_grid = GridSearchCV(KNeighborsClassifier(), param_grid, cv=5)\n",
    "\n",
    "# fit the grid to the data\n",
    "knn_grid.fit(x_train, y_train)\n",
    "\n",
    "# get the best estimator and its parameters\n",
    "best_knn = knn_grid.best_estimator_\n",
    "best_params = knn_grid.best_params_\n",
    "\n",
    "# print the best parameters\n",
    "print(f\"Best parameters: {best_params}\")\n",
    "\n",
    "# create a grid of k and weights\n",
    "k_vals = [1, 3, 5, 7, 9]\n",
    "weight_vals = ['uniform', 'distance']\n",
    "grid = np.zeros((len(k_vals), len(weight_vals)))\n",
    "\n",
    "# loop over the k and weights and calculate the cross-validation score\n",
    "for i, k in enumerate(k_vals):\n",
    "    for j, weight in enumerate(weight_vals):\n",
    "        knn = KNeighborsClassifier(n_neighbors=k, weights=weight)\n",
    "        scores_knn = cross_val_score(knn,  X, Y, cv=5)\n",
    "        score = scores_knn.mean()\n",
    "        grid[i, j] = score\n",
    "\n",
    "# plot the grid as a heatmap\n",
    "sns.heatmap(grid, xticklabels=weight_vals, yticklabels=k_vals, annot=True, fmt='.2f')\n",
    "plt.xlabel(\"weights\")\n",
    "plt.ylabel(\"k\")\n",
    "plt.title(\"Cross Validation Accuracy Grid\")\n",
    "plt.show()\n",
    "\n",
    "# print the best parameters\n",
    "print(f\"Best parameters: {best_params}\")\n",
    "\n",
    "# KNN Classifier with best parameters\n",
    "knn = best_knn\n",
    "knn = knn.fit(x_train, y_train)\n",
    "# prediction of labels for the test data\n",
    "knn_pred = knn.predict(x_test)\n",
    "# calculation of accuracy score based on predictions performed\n",
    "# converting to Decimal as rounding with float is inaccurate\n",
    "acc_knn = round(Decimal(accuracy_score(y_test, knn_pred) * 100), 2)\n",
    "accuracy_list.append(acc_knn)\n",
    "model_list.append(\"KNN\")\n",
    "print(f\"Accuracy (KNN) : {acc_knn}%\")\n",
    "\n",
    "# Cross Validation Accuracy KNN with best parameters\n",
    "# performing cross validation with 5 different splits\n",
    "scores_knn = cross_val_score(best_knn, X, Y, cv=5)\n",
    "# mean of cross val score (accuracy)\n",
    "score = round(Decimal(scores_knn.mean() * 100), 2)\n",
    "cross_accuracy_list.append(score)\n",
    "print(f\"Cross Validation Accuracy (KNN): {score}%\")\n",
    "\n",
    "\n"
   ]
  },
  {
   "cell_type": "markdown",
   "metadata": {
    "colab_type": "text",
    "id": "x4j2f2dH94dU"
   },
   "source": [
    "# **Logistic Regression Classifier**\n",
    "\n",
    "Logistic Regression uses OvR (One Vs Rest) approach when classification is multi class.\n",
    "La régularisation est une technique d'optimisation utilisée dans l'apprentissage automatique pour réduire le surapprentissage (overfitting) d'un modèle."
   ]
  },
  {
   "cell_type": "code",
   "execution_count": 8,
   "metadata": {
    "colab": {
     "base_uri": "https://localhost:8080/",
     "height": 50
    },
    "colab_type": "code",
    "id": "-ZBVt3BlmE7c",
    "outputId": "173b9591-29c3-4ad4-9139-1bcf2102b9e6"
   },
   "outputs": [
    {
     "name": "stdout",
     "output_type": "stream",
     "text": [
      "Best parameters: {'C': 0.001, 'penalty': 'none'}\n"
     ]
    },
    {
     "data": {
      "image/png": "[encoded data removed]",
      "text/plain": [
       "<Figure size 432x288 with 2 Axes>"
      ]
     },
     "metadata": {
      "needs_background": "light"
     },
     "output_type": "display_data"
    },
    {
     "name": "stdout",
     "output_type": "stream",
     "text": [
      "Best parameters: {'C': 0.001, 'penalty': 'none'}\n",
      "Accuracy (Logistic Regression) : 88.35%\n",
      "Cross Validation Accuracy (Logistic Regression): 87.84%\n"
     ]
    }
   ],
   "source": [
    "import seaborn as sns\n",
    "import matplotlib.pyplot as plt\n",
    "import numpy as np\n",
    "\n",
    "from sklearn.linear_model import LogisticRegression\n",
    "from sklearn.model_selection import GridSearchCV, cross_val_score\n",
    "from sklearn.metrics import accuracy_score\n",
    "\n",
    "# define the parameter grid to search over\n",
    "param_grid = {\n",
    "    'C': [0.001, 0.01, 0.1, 1],\n",
    "    'penalty':['none', 'l2']\n",
    "}\n",
    "\n",
    "# create the GridSearchCV object\n",
    "logreg_grid = GridSearchCV(LogisticRegression(), param_grid, cv=5)\n",
    "\n",
    "# fit the grid to the data\n",
    "logreg_grid.fit(x_train, y_train)\n",
    "\n",
    "# get the best estimator and its parameters\n",
    "best_logreg = logreg_grid.best_estimator_\n",
    "best_params = logreg_grid.best_params_\n",
    "\n",
    "# print the best parameters\n",
    "print(f\"Best parameters: {best_params}\")\n",
    "\n",
    "# create a grid of penalty and C values\n",
    "penalty_vals = ['none', 'l2']\n",
    "C_vals = [0.001, 0.01, 0.1, 1]\n",
    "grid = np.zeros((len(penalty_vals), len(C_vals)))\n",
    "\n",
    "# loop over the penalty and C values and calculate the cross-validation score\n",
    "for i, penalty in enumerate(penalty_vals):\n",
    "    for j, C_val in enumerate(C_vals):\n",
    "        logreg = LogisticRegression(C=C_val, penalty=penalty)\n",
    "        scores_logreg = cross_val_score(logreg, x_test, y_test, cv=5)\n",
    "        score = scores_logreg.mean()\n",
    "        grid[i, j] = score\n",
    "\n",
    "# plot the grid as a heatmap\n",
    "sns.heatmap(grid, xticklabels=C_vals, yticklabels=penalty_vals, annot=True, fmt='.2f')\n",
    "plt.xlabel(\"C\")\n",
    "plt.ylabel(\"penalty\")\n",
    "plt.title(\"Cross Validation Accuracy Grid\")\n",
    "plt.show()\n",
    "\n",
    "# print the best parameters\n",
    "print(f\"Best parameters: {best_params}\")\n",
    "\n",
    "# Logistic Regression with best parameters\n",
    "logreg = best_logreg\n",
    "logreg = logreg.fit(x_train, y_train)\n",
    "# prediction of labels for the test data\n",
    "logreg_pred = logreg.predict(x_test)\n",
    "# calculation of accuracy score based on predictions performed\n",
    "# converting to Decimal as rounding with float is inaccurate\n",
    "acc_logreg = round(Decimal(accuracy_score(y_test, logreg_pred) * 100), 2)\n",
    "accuracy_list.append(acc_logreg)\n",
    "model_list.append(\"Logistic Regression\")\n",
    "print(f\"Accuracy (Logistic Regression) : {acc_logreg}%\")\n",
    "\n",
    "# Cross Validation Accuracy Logistic Regression with best parameters\n",
    "# performing cross validation with 5 different splits\n",
    "scores_logreg = cross_val_score(best_logreg, X, Y, cv=5)\n",
    "# mean of cross val score (accuracy)\n",
    "score = round(Decimal(scores_logreg.mean() * 100), 2)\n",
    "cross_accuracy_list.append(score)\n",
    "print(f\"Cross Validation Accuracy (Logistic Regression): {score}%\")\n"
   ]
  },
  {
   "cell_type": "markdown",
   "metadata": {
    "colab_type": "text",
    "id": "Zbz-aL_Q9_U0"
   },
   "source": []
  },
  {
   "cell_type": "code",
   "execution_count": null,
   "metadata": {
    "colab": {
     "base_uri": "https://localhost:8080/",
     "height": 50
    },
    "colab_type": "code",
    "id": "JDSJc0RlmG-0",
    "outputId": "ee7dc68c-51a3-4630-ed30-9a421fb43ba4"
   },
   "outputs": [],
   "source": []
  },
  {
   "cell_type": "markdown",
   "metadata": {
    "colab_type": "text",
    "id": "uUYxizhO-FtC"
   },
   "source": []
  },
  {
   "cell_type": "code",
   "execution_count": null,
   "metadata": {
    "colab": {
     "base_uri": "https://localhost:8080/",
     "height": 50
    },
    "colab_type": "code",
    "id": "CwFDYYBQmKAc",
    "outputId": "fca7c327-b54d-4ffb-9eb8-4711372773cb"
   },
   "outputs": [],
   "source": []
  },
  {
   "cell_type": "markdown",
   "metadata": {
    "colab_type": "text",
    "id": "2zI71-uw-JMq"
   },
   "source": []
  },
  {
   "cell_type": "code",
   "execution_count": null,
   "metadata": {
    "colab": {
     "base_uri": "https://localhost:8080/",
     "height": 50
    },
    "colab_type": "code",
    "id": "nwVwjevImMQU",
    "outputId": "18989cdc-3840-47c7-92dd-f5775446042a"
   },
   "outputs": [],
   "source": []
  },
  {
   "cell_type": "markdown",
   "metadata": {
    "colab_type": "text",
    "id": "x0deyBf7-QSD"
   },
   "source": [
    "# **Accuracy Comparison Plot for all the classifiers**"
   ]
  },
  {
   "cell_type": "code",
   "execution_count": 9,
   "metadata": {
    "colab": {
     "base_uri": "https://localhost:8080/",
     "height": 647
    },
    "colab_type": "code",
    "id": "c_4WiPo4mR2M",
    "outputId": "e233f609-b457-47cc-cdaa-9905da4a9355"
   },
   "outputs": [
    {
     "data": {
      "image/png": "[encoded data removed]",
      "text/plain": [
       "<Figure size 720x720 with 1 Axes>"
      ]
     },
     "metadata": {
      "needs_background": "light"
     },
     "output_type": "display_data"
    }
   ],
   "source": [
    "# comparison plot for all classifiers with their accuracy\n",
    "plt.style.use('seaborn-poster')\n",
    "fig = plt.figure(figsize=(10, 10))\n",
    "ax = fig.add_subplot()\n",
    "plt.title(\"Model Vs Accuracy\")\n",
    "plt.xlabel('Classifier')\n",
    "plt.ylabel('Accuracy (%)')\n",
    "plt.bar(model_list, accuracy_list, color='#1f212d')\n",
    "for i, j in enumerate(accuracy_list):\n",
    "    ax.text(float(i)-0.15, float(j)+1, str(j), color='red')\n",
    "plt.show()"
   ]
  },
  {
   "cell_type": "markdown",
   "metadata": {
    "colab_type": "text",
    "id": "ja6vRv2M-l_s"
   },
   "source": [
    "# **Cross Validation Accuracy Comparison Plot for all the classifiers**"
   ]
  },
  {
   "cell_type": "code",
   "execution_count": 10,
   "metadata": {
    "colab": {
     "base_uri": "https://localhost:8080/",
     "height": 647
    },
    "colab_type": "code",
    "id": "8WmaR3XBzT0e",
    "outputId": "77a1a225-6af3-4088-8414-c29ae6a621da"
   },
   "outputs": [
    {
     "data": {
      "image/png": "[encoded data removed]",
      "text/plain": [
       "<Figure size 720x720 with 1 Axes>"
      ]
     },
     "metadata": {
      "needs_background": "light"
     },
     "output_type": "display_data"
    }
   ],
   "source": [
    "# comparison plot for all classifiers with their accuracy\n",
    "plt.style.use('seaborn-poster')\n",
    "fig = plt.figure(figsize=(10, 10))\n",
    "ax = fig.add_subplot()\n",
    "plt.title(\"Model Vs Cross Validation Accuracy\")\n",
    "plt.xlabel('Classifier')\n",
    "plt.ylabel('Accuracy (%)')\n",
    "plt.bar(model_list, cross_accuracy_list, color='#1f212d')\n",
    "for i, j in enumerate(cross_accuracy_list):\n",
    "    ax.text(float(i)-0.15, float(j)+0.7, str(j), color='red')\n",
    "plt.show()"
   ]
  },
  {
   "cell_type": "code",
   "execution_count": null,
   "metadata": {},
   "outputs": [],
   "source": []
  },
  {
   "cell_type": "code",
   "execution_count": null,
   "metadata": {},
   "outputs": [],
   "source": []
  },
  {
   "cell_type": "code",
   "execution_count": null,
   "metadata": {},
   "outputs": [],
   "source": []
  },
  {
   "cell_type": "code",
   "execution_count": null,
   "metadata": {},
   "outputs": [],
   "source": []
  },
  {
   "cell_type": "code",
   "execution_count": null,
   "metadata": {},
   "outputs": [],
   "source": []
  }
 ],
 "metadata": {
  "accelerator": "GPU",
  "colab": {
   "collapsed_sections": [],
   "name": "Model_latest.ipynb",
   "provenance": []
  },
  "kernelspec": {
   "display_name": "Python 3 (ipykernel)",
   "language": "python",
   "name": "python3"
  },
  "language_info": {
   "codemirror_mode": {
    "name": "ipython",
    "version": 3
   },
   "file_extension": ".py",
   "mimetype": "text/x-python",
   "name": "python",
   "nbconvert_exporter": "python",
   "pygments_lexer": "ipython3",
   "version": "3.9.12"
  }
 },
 "nbformat": 4,
 "nbformat_minor": 1
}
